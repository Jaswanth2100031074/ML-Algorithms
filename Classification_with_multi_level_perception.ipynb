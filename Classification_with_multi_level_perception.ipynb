{
 "cells": [
  {
   "cell_type": "code",
   "execution_count": 3,
   "id": "d225c531",
   "metadata": {},
   "outputs": [],
   "source": [
    "# import Libraries\n",
    "import numpy as np\n",
    "import matplotlib.pyplot as plt\n",
    "from sklearn.datasets import make_circles\n",
    "from sklearn.neural_network import MLPClassifier\n",
    "import ipywidgets as widgets\n",
    "from IPython.display import display\n",
    "from ipywidgets import interactive"
   ]
  },
  {
   "cell_type": "code",
   "execution_count": 4,
   "id": "efee8798",
   "metadata": {},
   "outputs": [],
   "source": [
    "#Function to update and find the plot value\n",
    "\n",
    "def update_plot(hidden_layer_size):\n",
    "    #Generate synthetic data \n",
    "    X,y=make_circles(n_samples=300,noise=0.1,factor=0.5,random_state=0)\n",
    "\n",
    "    clf=MLPClassifier(hidden_layer_sizes=(hidden_layer_size,),activation='relu',max_iter=3000,random_state=1)\n",
    "\n",
    "    clf.fit(X,y)\n",
    "    x_vals = np.linspace(X[:, 0].min() - 0.1, X[:, 0].max() + 0.1, 100)\n",
    "    y_vals = np.linspace(X[:, 1].min() - 0.1, X[:, 1].max() + 0.1, 100)\n",
    "    X_plane, Y_plane = np.meshgrid(x_vals, y_vals)\n",
    "    grid_points = np.column_stack((X_plane.ravel(), Y_plane.ravel()))\n",
    "\n",
    "    z = clf.predict(grid_points)\n",
    "    z = z.reshape(X_plane.shape)\n",
    "\n",
    "    plt.clf()\n",
    "    plt.contourf(X_plane, Y_plane, z, levels=[-0.5, 0.5, 1.5],cmap=plt.cm.RdYlGn, alpha=0.6)\n",
    "    plt.scatter(X[:, 0], X[:, 1], c=y, cmap=plt.cm.RdYlGn)\n",
    "    plt.xlabel('Feature 1')\n",
    "    plt.ylabel('Feature 2')\n",
    "    plt.title(f'Decision Boundary Visualization for Circle Data (Hidden Layer Size={hidden_layer_size})')\n",
    "    plt.show()\n",
    "\n"
   ]
  },
  {
   "cell_type": "code",
   "execution_count": 6,
   "id": "7fb63b91",
   "metadata": {},
   "outputs": [
    {
     "data": {
      "application/vnd.jupyter.widget-view+json": {
       "model_id": "071540f63b854d8c8fccb94ae7ee0114",
       "version_major": 2,
       "version_minor": 0
      },
      "text/plain": [
       "interactive(children=(IntSlider(value=2, description='Hidden Layer Size', max=10, min=1), Output()), _dom_clas…"
      ]
     },
     "metadata": {},
     "output_type": "display_data"
    }
   ],
   "source": [
    "hidden_layer_size_slider=widgets.IntSlider(value=2,min=1,max=10,step=1,description='Hidden Layer Size')\n",
    "submit_button=widgets.Button(description='Submit')\n",
    "\n",
    "def submit_button_callback(button):\n",
    "    update_plot(hidden_layer_size_slider.value)\n",
    "\n",
    "interactive_plot=interactive(update_plot,hidden_layer_size=hidden_layer_size_slider)\n",
    "display(interactive_plot)"
   ]
  }
 ],
 "metadata": {
  "kernelspec": {
   "display_name": "base",
   "language": "python",
   "name": "python3"
  },
  "language_info": {
   "codemirror_mode": {
    "name": "ipython",
    "version": 3
   },
   "file_extension": ".py",
   "mimetype": "text/x-python",
   "name": "python",
   "nbconvert_exporter": "python",
   "pygments_lexer": "ipython3",
   "version": "3.11.5"
  }
 },
 "nbformat": 4,
 "nbformat_minor": 5
}
