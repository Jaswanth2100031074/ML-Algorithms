{
 "cells": [
  {
   "cell_type": "code",
   "execution_count": 1,
   "id": "d7484e27-f118-42a9-87ce-d2d00b029a9d",
   "metadata": {
    "editable": true,
    "slideshow": {
     "slide_type": ""
    },
    "tags": []
   },
   "outputs": [],
   "source": [
    "#import libraries\n",
    "import numpy as np\n",
    "import matplotlib.pyplot as plt\n",
    "from ipywidgets import interact,FloatSlider\n",
    "from IPython.display import display,clear_output"
   ]
  },
  {
   "cell_type": "code",
   "execution_count": 2,
   "id": "b96a7537-4b60-41bf-8eff-36dbe09a9203",
   "metadata": {},
   "outputs": [],
   "source": [
    "#Generate Synthetic Data\n",
    "np.random.seed(0)\n",
    "X=np.linspace(0,10,100)\n",
    "Y=2*X+1+np.random.normal(0,2,100)"
   ]
  },
  {
   "cell_type": "code",
   "execution_count": 3,
   "id": "31492f4a-319d-4314-9aa6-f2a4ecb3178f",
   "metadata": {
    "editable": true,
    "slideshow": {
     "slide_type": ""
    },
    "tags": []
   },
   "outputs": [],
   "source": [
    "# Craete Plot function for interactive Visualisation\n",
    "\n",
    "def plot_linear_regression(slope=2.0,intercept=1.0):\n",
    "    predicted_Y=slope*X+intercept\n",
    "    loss=np.mean((predicted_Y-Y)**2)\n",
    "    plt.figure(figsize=(10,5))\n",
    "    plt.scatter(X,Y,label='Data Points')\n",
    "    plt.plot(X,predicted_Y,color='red',label='Linear Regression Line')\n",
    "    plt.xlabel('X')\n",
    "    plt.ylabel('Y/predicted Y')\n",
    "    plt.title(f'Linear Regression (Loss:{loss:.2f})')\n",
    "    plt.legend()\n",
    "    plt.grid(True)\n",
    "    plt.show()"
   ]
  },
  {
   "cell_type": "code",
   "execution_count": 4,
   "id": "c0cb1bbb-dbed-4189-b346-0241582d541f",
   "metadata": {
    "editable": true,
    "slideshow": {
     "slide_type": ""
    },
    "tags": []
   },
   "outputs": [
    {
     "data": {
      "application/vnd.jupyter.widget-view+json": {
       "model_id": "cfe2f5a342994aeeb5972e25ec33ba2f",
       "version_major": 2,
       "version_minor": 0
      },
      "text/plain": [
       "interactive(children=(FloatSlider(value=1.8, description='slope', max=5.0, min=-5.0), FloatSlider(value=2.4, d…"
      ]
     },
     "metadata": {},
     "output_type": "display_data"
    },
    {
     "data": {
      "text/plain": [
       "<function __main__.plot_linear_regression(slope=2.0, intercept=1.0)>"
      ]
     },
     "execution_count": 4,
     "metadata": {},
     "output_type": "execute_result"
    }
   ],
   "source": [
    "#Create Sliders\n",
    "\n",
    "slope_slider=FloatSlider(value=1.80,min=-5.0,max=5.0,step=0.1,descriptipn='Slope')\n",
    "intercept_slider=FloatSlider(value=2.40,min=-5.0,max=5.0,step=0.1,description='Intercept')\n",
    "\n",
    "#Create an interactive widget\n",
    "interact(plot_linear_regression,slope=slope_slider,intercept=intercept_slider)"
   ]
  },
  {
   "cell_type": "code",
   "execution_count": null,
   "id": "9b43b0aa-aa1d-442a-8446-4a5b93ca2ae9",
   "metadata": {},
   "outputs": [],
   "source": []
  }
 ],
 "metadata": {
  "kernelspec": {
   "display_name": "base",
   "language": "python",
   "name": "python3"
  },
  "language_info": {
   "codemirror_mode": {
    "name": "ipython",
    "version": 3
   },
   "file_extension": ".py",
   "mimetype": "text/x-python",
   "name": "python",
   "nbconvert_exporter": "python",
   "pygments_lexer": "ipython3",
   "version": "3.11.5"
  }
 },
 "nbformat": 4,
 "nbformat_minor": 5
}
